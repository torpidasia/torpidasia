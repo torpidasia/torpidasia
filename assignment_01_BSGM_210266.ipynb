{
  "nbformat": 4,
  "nbformat_minor": 0,
  "metadata": {
    "colab": {
      "name": "assignment_01_BSGM_210266.ipynb",
      "provenance": [],
      "collapsed_sections": [],
      "authorship_tag": "ABX9TyMlc1a3l17aVlW+9DwszIuQ",
      "include_colab_link": true
    },
    "kernelspec": {
      "name": "python3",
      "display_name": "Python 3"
    },
    "language_info": {
      "name": "python"
    }
  },
  "cells": [
    {
      "cell_type": "markdown",
      "metadata": {
        "id": "view-in-github",
        "colab_type": "text"
      },
      "source": [
        "<a href=\"https://colab.research.google.com/github/torpidasia/torpidasia/blob/main/assignment_01_BSGM_210266.ipynb\" target=\"_parent\"><img src=\"https://colab.research.google.com/assets/colab-badge.svg\" alt=\"Open In Colab\"/></a>"
      ]
    },
    {
      "cell_type": "code",
      "source": [
        "!pip install ColabTurtlePlus\n",
        "from ColabTurtlePlus.Turtle import*\n",
        "initializeTurtle((160,180))\n",
        "speed(13)\n",
        "bgcolor((39,32,108))\n",
        "\n",
        "jumpto(0,30)\n",
        "right(230)\n",
        "circle(-150,20)\n",
        "\n",
        "jumpto(0,30)\n",
        "right(60)\n",
        "circle(150,20)\n",
        "right(110)\n",
        "\n",
        "begin_fill()\n",
        "circle(-130,60)\n",
        "\n",
        "jumpto(0,30)\n",
        "left(230)\n",
        "circle(-150,20)\n",
        "left(110)\n",
        "\n",
        "circle(130,60)\n",
        "forward(10)\n",
        "right(280)\n",
        "forward(135)\n",
        "right(290)\n",
        "forward(10)\n",
        "goto(0,30)\n",
        "end_fill()\n",
        "color(\"white\")\n",
        "\n",
        "jumpto(0,-30)\n",
        "right(30)\n",
        "begin_fill()\n",
        "forward(20)\n",
        "right(90)\n",
        "circle(-99,25)\n",
        "right(105)\n",
        "forward(50)\n",
        "\n",
        "jumpto(0,-30)\n",
        "right(30)\n",
        "forward(20)\n",
        "left(90)\n",
        "circle(88,25)\n",
        "left(105)\n",
        "fd(30)\n",
        "goto(0,-30)\n",
        "pensize(8)\n",
        "goto(0,-44)\n",
        "goto(-10,-44)\n",
        "goto(-10,-55)\n",
        "end_fill()\n",
        "color(\"black\")\n",
        "jumpto(0,-60)\n",
        "right(10)\n",
        "fd(62)\n",
        "backward(127)\n",
        "pensize(1)\n",
        "shape(\"classic\")\n",
        "\n",
        "jumpto(-5,-40)\n",
        "right(270)\n",
        "circle(-5,180)\n",
        "color(\"white\")\n",
        "jumpto(0,8)\n",
        "right(90)\n",
        "penup()\n",
        "fd(15)\n",
        "pendown()\n",
        "begin_fill()\n",
        "fd(35)\n",
        "right(270)\n",
        "circle(17.5,180)\n",
        "end_fill()\n",
        "right(90)\n",
        "penup()\n",
        "fd(30)\n",
        "pendown()\n",
        "begin_fill()\n",
        "fd(35)\n",
        "left(270)\n",
        "circle(-17.5,180)\n",
        "end_fill()\n",
        "right(90)\n",
        "fd(3)\n",
        "color(\"purple\")\n",
        "begin_fill()\n",
        "fd(15)\n",
        "right(90)\n",
        "circle(-7.5,180)\n",
        "end_fill()\n",
        "\n",
        "right(90)\n",
        "fd(8)\n",
        "dot(10,\"black\")\n",
        "\n",
        "#white dot in right\n",
        "fd(5)\n",
        "dot(3,\"white\")\n",
        "\n",
        "right(180)\n",
        "penup()\n",
        "jumpto(-18,8)\n",
        "pendown()\n",
        "begin_fill()\n",
        "fd(15)\n",
        "left(90)\n",
        "circle(7.5,180)\n",
        "end_fill()\n",
        "left(90)\n",
        "fd(8)\n",
        "dot(10,\"black\")\n",
        "\n",
        "#white dot in left\n",
        "backward(5)\n",
        "dot(3,\"white\")\n",
        "\n",
        "jumpto(-70,-83)\n",
        "color(\"pink\")\n",
        "write(\"MADE BY:: AASIA KHALID(210266),     RAVEN \",align=\"left\",font=(7,\"Roboto\",\"italic\"))\n",
        "hideturtle() "
      ],
      "metadata": {
        "colab": {
          "base_uri": "https://localhost:8080/",
          "height": 218
        },
        "id": "6xDwtddWN1y7",
        "outputId": "dd0d7753-b64f-4947-8397-c24c33ef9c75"
      },
      "execution_count": 263,
      "outputs": [
        {
          "output_type": "stream",
          "name": "stdout",
          "text": [
            "Requirement already satisfied: ColabTurtlePlus in /usr/local/lib/python3.7/dist-packages (2.0.1)\n"
          ]
        },
        {
          "output_type": "display_data",
          "data": {
            "text/html": [
              "\n",
              "      <svg width=\"160\" height=\"180\">  \n",
              "        <rect width=\"100%\" height=\"100%\" style=\"fill:rgb(39,32,108);stroke:;stroke-width:1\"/>\n",
              "        \n",
              "        \n",
              "        <path d=\"M 80.0 60.0 A -150 -150 0 0 1 53.953 14.885\" stroke-linecap=\"round\" \n",
              "            fill=\"transparent\" fill-opacity=\"0\" style=\"stroke:black;stroke-width:1\"/><path d=\"M 80.0 60.0 A 150 150 0 0 0 106.047 14.885\" stroke-linecap=\"round\" \n",
              "            fill=\"transparent\" fill-opacity=\"0\" style=\"stroke:black;stroke-width:1\"/><path fill-rule=\"evenodd\" fill-opacity=\"1\" d=\"M 106.047 14.885  A -130 -130 0 0 1 150.51 137.045  L 80.0 60.0  A -150 -150 0 0 1 53.953 14.885  A 130 130 0 0 0 9.49 137.045  L 11.226 146.893  L 146.226 146.893  L 149.646 137.496  L 80.0 60.0 \" stroke-linecap=\"round\" style=\"stroke:black;stroke-width:1\" fill=\"black\" /><path fill-rule=\"evenodd\" fill-opacity=\"1\" d=\"M 80.0 120.0  L 95.321 107.144  A -99 -99 0 0 1 115.109 145.157  L 65.109 145.157  L 80.0 120.0  L 62.679 110.0  A 88 88 0 0 0 51.224 146.33  L 80.768 141.121  L 80.0 120.0  L 80.0 134.0  L 70.0 134.0  L 70.0 145.0 \" stroke-linecap=\"round\" style=\"stroke:white;stroke-width:8\" fill=\"white\" /><line x1=\"80.0\" y1=\"150.0\" x2=\"142.0\" y2=\"150.0\" stroke-linecap=\"round\" style=\"stroke:black;stroke-width:8\" /><line x1=\"142.0\" y1=\"150.0\" x2=\"15.0\" y2=\"150.0\" stroke-linecap=\"round\" style=\"stroke:black;stroke-width:8\" /><path d=\"M 75.0 130.0 A -5 -5 0 0 1 85.0 130.0\" stroke-linecap=\"round\" \n",
              "            fill=\"transparent\" fill-opacity=\"0\" style=\"stroke:black;stroke-width:1\"/><path fill-rule=\"evenodd\" fill-opacity=\"1\" d=\"M 65.0 82.0  L 30.0 82.0  A 17.5 17.5 0 0 0 65.0 82.0 \" stroke-linecap=\"round\" style=\"stroke:white;stroke-width:1\" fill=\"white\" /><path fill-rule=\"evenodd\" fill-opacity=\"1\" d=\"M 95.0 82.0  L 130.0 82.0  A -17.5 -17.5 0 0 1 95.0 82.0 \" stroke-linecap=\"round\" style=\"stroke:white;stroke-width:1\" fill=\"white\" /><line x1=\"95.0\" y1=\"82.0\" x2=\"98.0\" y2=\"82.0\" stroke-linecap=\"round\" style=\"stroke:white;stroke-width:1\" /><path fill-rule=\"evenodd\" fill-opacity=\"1\" d=\"M 98.0 82.0  L 113.0 82.0  A -7.5 -7.5 0 0 1 98.0 82.0 \" stroke-linecap=\"round\" style=\"stroke:purple;stroke-width:1\" fill=\"purple\" /><line x1=\"98.0\" y1=\"82.0\" x2=\"106.0\" y2=\"82.0\" stroke-linecap=\"round\" style=\"stroke:purple;stroke-width:1\" /><line x1=\"106.0\" y1=\"82.0\" x2=\"111.0\" y2=\"82.0\" stroke-linecap=\"round\" style=\"stroke:purple;stroke-width:1\" /><path fill-rule=\"evenodd\" fill-opacity=\"1\" d=\"M 62.0 82.0  L 47.0 82.0  A 7.5 7.5 0 0 0 62.0 82.0 \" stroke-linecap=\"round\" style=\"stroke:purple;stroke-width:1\" fill=\"purple\" /><line x1=\"62.0\" y1=\"82.0\" x2=\"54.0\" y2=\"82.0\" stroke-linecap=\"round\" style=\"stroke:purple;stroke-width:1\" /><line x1=\"54.0\" y1=\"82.0\" x2=\"59.0\" y2=\"82.0\" stroke-linecap=\"round\" style=\"stroke:purple;stroke-width:1\" /><text x=\"10.0\" y=\"173.0\" fill=\"pink\" text-anchor=\"start\" style=\"font-size:7px;font-family:'Roboto';font-style:italic;\">MADE BY:: AASIA KHALID(210266),     RAVEN </text>\n",
              "        <circle cx=\"106.0\" cy=\"82.0\" r=\"5.0\" fill=\"black\" fill-opacity=\"1\" /><circle cx=\"111.0\" cy=\"82.0\" r=\"1.5\" fill=\"white\" fill-opacity=\"1\" /><circle cx=\"54.0\" cy=\"82.0\" r=\"5.0\" fill=\"black\" fill-opacity=\"1\" /><circle cx=\"59.0\" cy=\"82.0\" r=\"1.5\" fill=\"white\" fill-opacity=\"1\" />\n",
              "        \n",
              "        <g id=\"classic\" visibility=\"hidden\" transform=\"rotate(90.0,10.0,173.0) translate(10.0, 173.0)\">\n",
              "<polygon points=\"-5,-4.5 0,-2.5 5,-4.5 0,4.5\" transform=\"skewX(0) scale(1,1)\" style=\"stroke:pink;fill:pink;stroke-width:1\" />\n",
              "</g>\n",
              "      </svg>\n",
              "    "
            ],
            "text/plain": [
              "<IPython.core.display.HTML object>"
            ]
          },
          "metadata": {}
        }
      ]
    },
    {
      "cell_type": "code",
      "source": [
        "saveSVG(\"RAVEN.svg\")"
      ],
      "metadata": {
        "id": "Og77KVHScJMM"
      },
      "execution_count": 264,
      "outputs": []
    }
  ]
}