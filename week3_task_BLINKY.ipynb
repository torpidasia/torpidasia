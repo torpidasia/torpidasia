{
  "nbformat": 4,
  "nbformat_minor": 0,
  "metadata": {
    "colab": {
      "name": "week3_task_BLINKY.ipynb",
      "provenance": [],
      "collapsed_sections": [],
      "authorship_tag": "ABX9TyNftgetpqIkjsc+LR+niSAe",
      "include_colab_link": true
    },
    "kernelspec": {
      "name": "python3",
      "display_name": "Python 3"
    },
    "language_info": {
      "name": "python"
    }
  },
  "cells": [
    {
      "cell_type": "markdown",
      "metadata": {
        "id": "view-in-github",
        "colab_type": "text"
      },
      "source": [
        "<a href=\"https://colab.research.google.com/github/torpidasia/torpidasia/blob/main/week3_task_BLINKY.ipynb\" target=\"_parent\"><img src=\"https://colab.research.google.com/assets/colab-badge.svg\" alt=\"Open In Colab\"/></a>"
      ]
    },
    {
      "cell_type": "code",
      "execution_count": null,
      "metadata": {
        "colab": {
          "base_uri": "https://localhost:8080/",
          "height": 238
        },
        "id": "AqENkch4wAN6",
        "outputId": "22e37757-34eb-49ce-8537-fe956a91886a"
      },
      "outputs": [
        {
          "output_type": "stream",
          "name": "stdout",
          "text": [
            "Requirement already satisfied: ColabTurtlePlus in /usr/local/lib/python3.7/dist-packages (2.0.1)\n"
          ]
        },
        {
          "output_type": "display_data",
          "data": {
            "text/html": [
              "\n",
              "      <svg width=\"200\" height=\"200\">  \n",
              "        <rect width=\"100%\" height=\"100%\" style=\"fill:rgb(230,230,250);stroke:;stroke-width:1\"/>\n",
              "        \n",
              "        \n",
              "        <line x1=\"100.0\" y1=\"100.0\" x2=\"110.0\" y2=\"100.0\" stroke-linecap=\"round\" style=\"stroke:black;stroke-width:1\" /><line x1=\"110.0\" y1=\"100.0\" x2=\"90.0\" y2=\"100.0\" stroke-linecap=\"round\" style=\"stroke:black;stroke-width:1\" /><line x1=\"90.0\" y1=\"100.0\" x2=\"80.0\" y2=\"100.0\" stroke-linecap=\"round\" style=\"stroke:rgb(255,182,193);stroke-width:3\" /><path fill-rule=\"evenodd\" fill-opacity=\"1\" d=\"M 80.0 100.0  L 80.0 98.0  A -20 -20 0 0 1 120.0 98.0  L 120.0 100.0 \" stroke-linecap=\"round\" style=\"stroke:rgb(123,104,238);stroke-width:1\" fill=\"rgb(123,104,238)\" /><line x1=\"120.0\" y1=\"100.0\" x2=\"110.0\" y2=\"100.0\" stroke-linecap=\"round\" style=\"stroke:rgb(255,182,193);stroke-width:3\" /><line x1=\"105.0\" y1=\"100.0\" x2=\"95.0\" y2=\"100.0\" stroke-linecap=\"round\" style=\"stroke:rgb(255,182,193);stroke-width:3\" /><line x1=\"90.0\" y1=\"100.0\" x2=\"80.0\" y2=\"100.0\" stroke-linecap=\"round\" style=\"stroke:rgb(255,182,193);stroke-width:3\" /><path fill-rule=\"evenodd\" fill-opacity=\"1\" d=\"M 80.0 100.0  L 80.0 124.0  A 5 5 0 0 0 90.0 124.0  A -2 -2 0 0 1 94.0 124.0  A 6 6 0 0 0 106.0 124.0  A -2 -2 0 0 1 110.0 124.0  A 5 5 0 0 0 120.0 124.0  L 120.0 100.0 \" stroke-linecap=\"round\" style=\"stroke:rgb(123,104,238);stroke-width:1\" fill=\"rgb(123,104,238)\" />\n",
              "        <circle cx=\"110.0\" cy=\"100.0\" r=\"5.0\" fill=\"white\" fill-opacity=\"1\" /><circle cx=\"110.0\" cy=\"100.0\" r=\"3.0\" fill=\"rgb(127,255,212)\" fill-opacity=\"1\" /><circle cx=\"90.0\" cy=\"100.0\" r=\"5.0\" fill=\"white\" fill-opacity=\"1\" /><circle cx=\"90.0\" cy=\"100.0\" r=\"3.0\" fill=\"rgb(127,255,212)\" fill-opacity=\"1\" />\n",
              "        \n",
              "        <g id=\"classic\" visibility=\"hidden\" transform=\"rotate(180.0,120.0,100.0) translate(120.0, 100.0)\">\n",
              "<polygon points=\"-5,-4.5 0,-2.5 5,-4.5 0,4.5\" transform=\"skewX(0) scale(1,1)\" style=\"stroke:rgb(123,104,238);fill:rgb(123,104,238);stroke-width:1\" />\n",
              "</g>\n",
              "      </svg>\n",
              "    "
            ],
            "text/plain": [
              "<IPython.core.display.HTML object>"
            ]
          },
          "metadata": {}
        }
      ],
      "source": [
        "!pip install ColabTurtlePlus\n",
        "from ColabTurtlePlus.Turtle import *\n",
        "initializeTurtle((200,200))\n",
        "bgcolor(\t(230,230,250))\n",
        "clear()\n",
        "speed(13)\n",
        "forward(10)\n",
        "dot(10,'white')\n",
        "dot(6,\t(127,255,212))\n",
        "backward(20)\n",
        "dot(10,'white')\n",
        "dot(6,\t(127,255,212))\n",
        "pencolor((255,182,193))\n",
        "pensize(3)\n",
        "backward(10)\n",
        "right(180)\n",
        "left(270)\n",
        "pensize(1)\n",
        "color((123,104,238))\n",
        "begin_fill()\n",
        "forward(2)\n",
        "\n",
        "circle(-20,180)\n",
        "\n",
        "forward(2)\n",
        "end_fill()\n",
        "right(90)\n",
        "pensize(3)\n",
        "color((255,182,193))\n",
        "forward(10)\n",
        "penup()\n",
        "forward(5)\n",
        "pendown()\n",
        "forward(10)\n",
        "penup()\n",
        "forward(5)\n",
        "pendown()\n",
        "forward(10)\n",
        "pensize(1)\n",
        "color((123,104,238))\n",
        "right(270)\n",
        "begin_fill()\n",
        "forward(24)\n",
        "circle(5,180)\n",
        "hideturtle()\n",
        "circle(-2,180)\n",
        "circle(6,180)\n",
        "circle(-2,180)\n",
        "circle(5,180)\n",
        "forward(24)\n",
        "end_fill()"
      ]
    },
    {
      "cell_type": "code",
      "source": [
        "saveSVG(\"blinky.svg\")"
      ],
      "metadata": {
        "id": "tbV4pd5nJLB_"
      },
      "execution_count": null,
      "outputs": []
    }
  ]
}